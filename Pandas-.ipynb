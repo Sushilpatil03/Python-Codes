{
 "cells": [
  {
   "cell_type": "markdown",
   "id": "cc2f0e82-53f6-4ba2-8e55-415a4b0433da",
   "metadata": {},
   "source": [
    "# PANDAS"
   ]
  },
  {
   "cell_type": "code",
   "execution_count": 1,
   "id": "05e74972-ce94-4e0d-8db3-cb554be2acc0",
   "metadata": {},
   "outputs": [
    {
     "name": "stdout",
     "output_type": "stream",
     "text": [
      "Pandas version: 2.3.2\n"
     ]
    }
   ],
   "source": [
    "import pandas as pd\n",
    "\n",
    "print(\"Pandas version:\", pd.__version__)"
   ]
  },
  {
   "cell_type": "code",
   "execution_count": 12,
   "id": "db6b5d94-4725-464f-b62e-017bc4a0bae6",
   "metadata": {},
   "outputs": [
    {
     "name": "stdout",
     "output_type": "stream",
     "text": [
      "a     10\n",
      "b     20\n",
      "c     30\n",
      "d     40\n",
      "e     50\n",
      "f     60\n",
      "g     70\n",
      "h     80\n",
      "i     90\n",
      "j    100\n",
      "dtype: int64\n"
     ]
    }
   ],
   "source": [
    "#data\n",
    "data = [10,20,30,40,50,60,70,80,90,100]\n",
    "s = pd.Series(data, index=['a','b','c','d','e','f','g','h','i','j'])\n",
    "print(s)"
   ]
  },
  {
   "cell_type": "markdown",
   "id": "70a37e90-b3a4-447d-9dfa-9ff2432b1703",
   "metadata": {},
   "source": [
    "#Creating DataFrames & Series"
   ]
  },
  {
   "cell_type": "code",
   "execution_count": 3,
   "id": "3e7ba328-6512-48ca-901b-364d2e687177",
   "metadata": {},
   "outputs": [
    {
     "name": "stdout",
     "output_type": "stream",
     "text": [
      "Series Example:\n",
      " 0    10\n",
      "1    20\n",
      "2    30\n",
      "3    40\n",
      "Name: Marks, dtype: int64\n",
      "\n",
      "DataFrame Example:\n",
      "      Name  Age  Score\n",
      "0  Sushil   22     85\n",
      "1    Ravi   25     90\n",
      "2   Kiran   23     78\n",
      "3    Asha   21     88\n",
      "\n",
      "Shape of DataFrame: (4, 3)\n",
      "\n",
      "Columns: ['Name', 'Age', 'Score']\n"
     ]
    }
   ],
   "source": [
    "# Creating a Series\n",
    "numbers = pd.Series([10, 20, 30, 40], name=\"Marks\")\n",
    "print(\"Series Example:\\n\", numbers)\n",
    "\n",
    "# Creating a simple DataFrame\n",
    "data = {\n",
    "    \"Name\": [\"Sushil\", \"Ravi\", \"Kiran\", \"Asha\"],\n",
    "    \"Age\": [22, 25, 23, 21],\n",
    "    \"Score\": [85, 90, 78, 88]\n",
    "}\n",
    "\n",
    "df = pd.DataFrame(data)\n",
    "print(\"\\nDataFrame Example:\\n\", df)\n",
    "\n",
    "# Display basic info\n",
    "print(\"\\nShape of DataFrame:\", df.shape)\n",
    "print(\"\\nColumns:\", df.columns.tolist())\n"
   ]
  },
  {
   "cell_type": "markdown",
   "id": "9f555beb-9c87-4beb-9bee-823fed7e3d91",
   "metadata": {},
   "source": [
    "#Data Selection & Indexing"
   ]
  },
  {
   "cell_type": "code",
   "execution_count": 4,
   "id": "94b7fdc7-6228-4e12-8400-0ef8617718a1",
   "metadata": {},
   "outputs": [
    {
     "name": "stdout",
     "output_type": "stream",
     "text": [
      "First 2 rows:\n",
      "      Name  Age  Score\n",
      "0  Sushil   22     85\n",
      "1    Ravi   25     90\n",
      "\n",
      "Last 2 rows:\n",
      "     Name  Age  Score\n",
      "2  Kiran   23     78\n",
      "3   Asha   21     88\n",
      "\n",
      "Name column:\n",
      " 0    Sushil\n",
      "1      Ravi\n",
      "2     Kiran\n",
      "3      Asha\n",
      "Name: Name, dtype: object\n",
      "\n",
      "Name and Score columns:\n",
      "      Name  Score\n",
      "0  Sushil     85\n",
      "1    Ravi     90\n",
      "2   Kiran     78\n",
      "3    Asha     88\n",
      "\n",
      "Row by index (iloc):\n",
      " Name     Ravi\n",
      "Age        25\n",
      "Score      90\n",
      "Name: 1, dtype: object\n",
      "\n",
      "Row by label (loc):\n",
      " Name     Kiran\n",
      "Age         23\n",
      "Score       78\n",
      "Name: 2, dtype: object\n"
     ]
    }
   ],
   "source": [
    "# Display first and last few rows\n",
    "print(\"First 2 rows:\\n\", df.head(2))\n",
    "print(\"\\nLast 2 rows:\\n\", df.tail(2))\n",
    "\n",
    "# Accessing columns\n",
    "print(\"\\nName column:\\n\", df[\"Name\"])\n",
    "\n",
    "# Accessing multiple columns\n",
    "print(\"\\nName and Score columns:\\n\", df[[\"Name\", \"Score\"]])\n",
    "\n",
    "# Selecting by index\n",
    "print(\"\\nRow by index (iloc):\\n\", df.iloc[1])\n",
    "\n",
    "# Selecting by label (loc)\n",
    "print(\"\\nRow by label (loc):\\n\", df.loc[2])\n"
   ]
  },
  {
   "cell_type": "markdown",
   "id": "d8e86ce2-fd3b-4a54-a009-906a7efde88d",
   "metadata": {},
   "source": [
    "#Filtering, Sorting, and Updating\n"
   ]
  },
  {
   "cell_type": "code",
   "execution_count": 6,
   "id": "edc87430-910b-484a-9d64-db26fcd2a6b0",
   "metadata": {},
   "outputs": [
    {
     "name": "stdout",
     "output_type": "stream",
     "text": [
      "Filtered (Age > 22):\n",
      "     Name  Age  Score\n",
      "1   Ravi   25     90\n",
      "2  Kiran   23     78\n",
      "\n",
      "Sorted by Score (desc):\n",
      "      Name  Age  Score\n",
      "1    Ravi   25     90\n",
      "3    Asha   21     88\n",
      "0  Sushil   22     85\n",
      "2   Kiran   23     78\n",
      "\n",
      "DataFrame with new column:\n",
      "      Name  Age  Score Status\n",
      "0  Sushil   22     85   Pass\n",
      "1    Ravi   25     90   Pass\n",
      "2   Kiran   23     78   Fail\n",
      "3    Asha   21     88   Pass\n"
     ]
    }
   ],
   "source": [
    "# Filter data (Age > 22)\n",
    "filtered = df[df[\"Age\"] > 22]\n",
    "print(\"Filtered (Age > 22):\\n\", filtered)\n",
    "\n",
    "# Sort by Score (descending)\n",
    "sorted_df = df.sort_values(by=\"Score\", ascending=False)\n",
    "print(\"\\nSorted by Score (desc):\\n\", sorted_df)\n",
    "\n",
    "# Update a column\n",
    "df[\"Status\"] = [\"Pass\" if x >= 80 else \"Fail\" for x in df[\"Score\"]]\n",
    "print(\"\\nDataFrame with new column:\\n\", df)\n"
   ]
  },
  {
   "cell_type": "markdown",
   "id": "0a7a725a-fcde-43c0-a4b9-66f4a941216c",
   "metadata": {},
   "source": [
    "#Handling Missing Data"
   ]
  },
  {
   "cell_type": "code",
   "execution_count": 8,
   "id": "fff01b7c-f1ec-4967-ba17-ffa81600990c",
   "metadata": {},
   "outputs": [
    {
     "name": "stdout",
     "output_type": "stream",
     "text": [
      "Data with Missing Values:\n",
      "      Name   Age  Score Status\n",
      "0  Sushil  22.0   85.0   Pass\n",
      "1    Ravi  25.0    NaN   Pass\n",
      "2   Kiran  23.0   78.0   Fail\n",
      "3    Asha   NaN   88.0   Pass\n",
      "\n",
      "Missing Value Count:\n",
      " Name      0\n",
      "Age       1\n",
      "Score     1\n",
      "Status    0\n",
      "dtype: int64\n",
      "\n",
      "After Filling Missing Values:\n",
      "      Name   Age      Score Status\n",
      "0  Sushil  22.0  85.000000   Pass\n",
      "1    Ravi  25.0  83.666667   Pass\n",
      "2   Kiran  23.0  78.000000   Fail\n",
      "3    Asha  23.0  88.000000   Pass\n"
     ]
    },
    {
     "name": "stderr",
     "output_type": "stream",
     "text": [
      "C:\\Users\\Jayesh\\AppData\\Local\\Temp\\ipykernel_16544\\1107317399.py:10: FutureWarning: A value is trying to be set on a copy of a DataFrame or Series through chained assignment using an inplace method.\n",
      "The behavior will change in pandas 3.0. This inplace method will never work because the intermediate object on which we are setting values always behaves as a copy.\n",
      "\n",
      "For example, when doing 'df[col].method(value, inplace=True)', try using 'df.method({col: value}, inplace=True)' or df[col] = df[col].method(value) instead, to perform the operation inplace on the original object.\n",
      "\n",
      "\n",
      "  df[\"Score\"].fillna(df[\"Score\"].mean(), inplace=True)\n",
      "C:\\Users\\Jayesh\\AppData\\Local\\Temp\\ipykernel_16544\\1107317399.py:11: FutureWarning: A value is trying to be set on a copy of a DataFrame or Series through chained assignment using an inplace method.\n",
      "The behavior will change in pandas 3.0. This inplace method will never work because the intermediate object on which we are setting values always behaves as a copy.\n",
      "\n",
      "For example, when doing 'df[col].method(value, inplace=True)', try using 'df.method({col: value}, inplace=True)' or df[col] = df[col].method(value) instead, to perform the operation inplace on the original object.\n",
      "\n",
      "\n",
      "  df[\"Age\"].fillna(df[\"Age\"].median(), inplace=True)\n"
     ]
    }
   ],
   "source": [
    "# Add some NaN values\n",
    "df.loc[1, \"Score\"] = None\n",
    "df.loc[3, \"Age\"] = None\n",
    "print(\"Data with Missing Values:\\n\", df)\n",
    "\n",
    "# Check for nulls\n",
    "print(\"\\nMissing Value Count:\\n\", df.isnull().sum())\n",
    "\n",
    "# Fill missing values\n",
    "df[\"Score\"].fillna(df[\"Score\"].mean(), inplace=True)\n",
    "df[\"Age\"].fillna(df[\"Age\"].median(), inplace=True)\n",
    "\n",
    "print(\"\\nAfter Filling Missing Values:\\n\", df)\n"
   ]
  },
  {
   "cell_type": "markdown",
   "id": "df772128-475a-4633-ad9c-83f0c8adb0e2",
   "metadata": {},
   "source": [
    "#Grouping, Aggregation & Statistics"
   ]
  },
  {
   "cell_type": "code",
   "execution_count": 9,
   "id": "dc358877-828d-49ce-a179-cd0ec2a603f3",
   "metadata": {},
   "outputs": [
    {
     "name": "stdout",
     "output_type": "stream",
     "text": [
      "Department Data:\n",
      "   Department Employee  Salary\n",
      "0         HR        A   30000\n",
      "1         HR        B   35000\n",
      "2         IT        C   50000\n",
      "3         IT        D   52000\n",
      "4    Finance        E   45000\n",
      "5    Finance        F   47000\n",
      "\n",
      "Average Salary by Department:\n",
      " Department\n",
      "Finance    46000.0\n",
      "HR         32500.0\n",
      "IT         51000.0\n",
      "Name: Salary, dtype: float64\n",
      "\n",
      "Aggregated Data:\n",
      "              Salary              \n",
      "               mean    min    max\n",
      "Department                       \n",
      "Finance     46000.0  45000  47000\n",
      "HR          32500.0  30000  35000\n",
      "IT          51000.0  50000  52000\n"
     ]
    }
   ],
   "source": [
    " # Sample dataset for grouping\n",
    "data2 = {\n",
    "    \"Department\": [\"HR\", \"HR\", \"IT\", \"IT\", \"Finance\", \"Finance\"],\n",
    "    \"Employee\": [\"A\", \"B\", \"C\", \"D\", \"E\", \"F\"],\n",
    "    \"Salary\": [30000, 35000, 50000, 52000, 45000, 47000]\n",
    "}\n",
    "df2 = pd.DataFrame(data2)\n",
    "print(\"Department Data:\\n\", df2)\n",
    "\n",
    "# Group by department\n",
    "grouped = df2.groupby(\"Department\")[\"Salary\"].mean()\n",
    "print(\"\\nAverage Salary by Department:\\n\", grouped)\n",
    "\n",
    "# Multiple aggregations\n",
    "agg_df = df2.groupby(\"Department\").agg({\"Salary\": [\"mean\", \"min\", \"max\"]})\n",
    "print(\"\\nAggregated Data:\\n\", agg_df)\n"
   ]
  },
  {
   "cell_type": "markdown",
   "id": "7dbea7e4-3301-42cc-8527-657026f345af",
   "metadata": {},
   "source": [
    "#Merging, Joining, and Concatenation"
   ]
  },
  {
   "cell_type": "code",
   "execution_count": 10,
   "id": "e4741340-3d36-49a6-8153-2fd4b0986c3c",
   "metadata": {},
   "outputs": [
    {
     "name": "stdout",
     "output_type": "stream",
     "text": [
      "Merged DataFrame:\n",
      "    ID    Name    City\n",
      "0   1  Sushil   Dhule\n",
      "1   2    Ravi    Pune\n",
      "2   3    Asha     NaN\n",
      "3   4     NaN  Nashik\n",
      "\n",
      "Concatenated DataFrame:\n",
      "     ID    Name    City\n",
      "0  1.0  Sushil   Dhule\n",
      "1  2.0    Ravi    Pune\n",
      "2  3.0    Asha     NaN\n",
      "3  4.0     NaN  Nashik\n",
      "4  NaN   Kiran  Nagpur\n",
      "5  NaN   Rohan   Surat\n"
     ]
    }
   ],
   "source": [
    "# Two small DataFrames\n",
    "info1 = pd.DataFrame({\n",
    "    \"ID\": [1, 2, 3],\n",
    "    \"Name\": [\"Sushil\", \"Ravi\", \"Asha\"]\n",
    "})\n",
    "info2 = pd.DataFrame({\n",
    "    \"ID\": [1, 2, 4],\n",
    "    \"City\": [\"Dhule\", \"Pune\", \"Nashik\"]\n",
    "})\n",
    "\n",
    "# Merge by ID\n",
    "merged = pd.merge(info1, info2, on=\"ID\", how=\"outer\")\n",
    "print(\"Merged DataFrame:\\n\", merged)\n",
    "\n",
    "# Concatenation\n",
    "extra = pd.DataFrame({\n",
    "    \"Name\": [\"Kiran\", \"Rohan\"],\n",
    "    \"City\": [\"Nagpur\", \"Surat\"]\n",
    "})\n",
    "concat_df = pd.concat([merged, extra], ignore_index=True)\n",
    "print(\"\\nConcatenated DataFrame:\\n\", concat_df)\n"
   ]
  },
  {
   "cell_type": "markdown",
   "id": "7ad004c9-36bc-4953-9b43-5e9f174a2cca",
   "metadata": {},
   "source": [
    " \n",
    "#File I/O, Date, and Pivot Tables\n",
    " "
   ]
  },
  {
   "cell_type": "code",
   "execution_count": 11,
   "id": "6dda4d60-4bae-4282-8f5b-3a0fe22976cf",
   "metadata": {},
   "outputs": [
    {
     "name": "stderr",
     "output_type": "stream",
     "text": [
      "C:\\Users\\Jayesh\\AppData\\Local\\Temp\\ipykernel_16544\\939928810.py:3: FutureWarning: 'M' is deprecated and will be removed in a future version, please use 'ME' instead.\n",
      "  \"Date\": pd.date_range(start=\"2024-01-01\", periods=6, freq=\"M\"),\n"
     ]
    },
    {
     "name": "stdout",
     "output_type": "stream",
     "text": [
      "Sales Data:\n",
      "         Date Region  Sales\n",
      "0 2024-01-31  North  15000\n",
      "1 2024-02-29  South  18000\n",
      "2 2024-03-31   East  12000\n",
      "3 2024-04-30   West  22000\n",
      "4 2024-05-31  North  19000\n",
      "5 2024-06-30  South  21000\n",
      "\n",
      "Data saved to 'sales_data.csv'\n",
      "\n",
      "Loaded Data:\n",
      "          Date Region  Sales\n",
      "0  2024-01-31  North  15000\n",
      "1  2024-02-29  South  18000\n",
      "2  2024-03-31   East  12000\n",
      "3  2024-04-30   West  22000\n",
      "4  2024-05-31  North  19000\n",
      "\n",
      "Average Sales by Region:\n",
      "           Sales\n",
      "Region         \n",
      "East    12000.0\n",
      "North   17000.0\n",
      "South   19500.0\n",
      "West    22000.0\n",
      "\n",
      "Sales with Month Column:\n",
      "         Date Region  Sales     Month\n",
      "0 2024-01-31  North  15000   January\n",
      "1 2024-02-29  South  18000  February\n",
      "2 2024-03-31   East  12000     March\n",
      "3 2024-04-30   West  22000     April\n",
      "4 2024-05-31  North  19000       May\n",
      "5 2024-06-30  South  21000      June\n"
     ]
    }
   ],
   "source": [
    "# Create new DataFrame\n",
    "sales = pd.DataFrame({\n",
    "    \"Date\": pd.date_range(start=\"2024-01-01\", periods=6, freq=\"M\"),\n",
    "    \"Region\": [\"North\", \"South\", \"East\", \"West\", \"North\", \"South\"],\n",
    "    \"Sales\": [15000, 18000, 12000, 22000, 19000, 21000]\n",
    "})\n",
    "print(\"Sales Data:\\n\", sales)\n",
    "\n",
    "# Export to CSV\n",
    "sales.to_csv(\"sales_data.csv\", index=False)\n",
    "print(\"\\nData saved to 'sales_data.csv'\")\n",
    "\n",
    "# Read back\n",
    "loaded = pd.read_csv(\"sales_data.csv\")\n",
    "print(\"\\nLoaded Data:\\n\", loaded.head())\n",
    "\n",
    "# Pivot Table\n",
    "pivot = sales.pivot_table(values=\"Sales\", index=\"Region\", aggfunc=\"mean\")\n",
    "print(\"\\nAverage Sales by Region:\\n\", pivot)\n",
    "\n",
    "# Add a new column for month\n",
    "sales[\"Month\"] = sales[\"Date\"].dt.month_name()\n",
    "print(\"\\nSales with Month Column:\\n\", sales)"
   ]
  }
 ],
 "metadata": {
  "kernelspec": {
   "display_name": "Python 3 (ipykernel)",
   "language": "python",
   "name": "python3"
  },
  "language_info": {
   "codemirror_mode": {
    "name": "ipython",
    "version": 3
   },
   "file_extension": ".py",
   "mimetype": "text/x-python",
   "name": "python",
   "nbconvert_exporter": "python",
   "pygments_lexer": "ipython3",
   "version": "3.13.7"
  }
 },
 "nbformat": 4,
 "nbformat_minor": 5
}
