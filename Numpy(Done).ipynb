{
 "cells": [
  {
   "cell_type": "markdown",
   "id": "bbb020f1-e162-4c32-b168-0252e645df5f",
   "metadata": {},
   "source": [
    "# NUMPY"
   ]
  },
  {
   "cell_type": "code",
   "execution_count": 1,
   "id": "564cfbd8-1047-4666-9265-e5c0aed95ad4",
   "metadata": {},
   "outputs": [
    {
     "name": "stdout",
     "output_type": "stream",
     "text": [
      "NumPy version: 2.3.3\n"
     ]
    }
   ],
   "source": [
    "import numpy as np\n",
    "\n",
    "print(\"NumPy version:\", np.__version__)"
   ]
  },
  {
   "cell_type": "markdown",
   "id": "b6472c23-e1fc-4c52-9957-45b87ecb9b5c",
   "metadata": {},
   "source": [
    "#Creating Arrays"
   ]
  },
  {
   "cell_type": "code",
   "execution_count": 3,
   "id": "4a16b607-d27d-440b-a2df-16ff370ee2da",
   "metadata": {},
   "outputs": [
    {
     "name": "stdout",
     "output_type": "stream",
     "text": [
      "1D Array:\n",
      " [10 20 30 40]\n",
      "\n",
      "2D Array:\n",
      " [[1 2 3]\n",
      " [4 5 6]]\n",
      "\n",
      "Zeros:\n",
      " [[0. 0. 0.]\n",
      " [0. 0. 0.]]\n",
      "\n",
      "Ones:\n",
      " [[1. 1. 1.]\n",
      " [1. 1. 1.]\n",
      " [1. 1. 1.]]\n",
      "\n",
      "Random:\n",
      " [[0.85566002 0.89323716 0.21616198]\n",
      " [0.30625336 0.59778141 0.85150533]]\n"
     ]
    }
   ],
   "source": [
    "# 1D array\n",
    "a = np.array([10, 20, 30, 40])\n",
    "print(\"1D Array:\\n\", a)\n",
    "\n",
    "# 2D array\n",
    "b = np.array([[1, 2, 3], [4, 5, 6]])\n",
    "print(\"\\n2D Array:\\n\", b)\n",
    "\n",
    "# Using built-in functions\n",
    "zeros = np.zeros((2, 3))\n",
    "ones = np.ones((3, 3))\n",
    "randoms = np.random.rand(2, 3)\n",
    "\n",
    "print(\"\\nZeros:\\n\", zeros)\n",
    "print(\"\\nOnes:\\n\", ones)\n",
    "print(\"\\nRandom:\\n\", randoms)"
   ]
  },
  {
   "cell_type": "markdown",
   "id": "4ec653b6-ae76-40e9-a37c-df848b0dbac2",
   "metadata": {},
   "source": [
    "#Basic Operations"
   ]
  },
  {
   "cell_type": "code",
   "execution_count": 4,
   "id": "8df54f6e-0898-4f31-be2b-04a4861d38e3",
   "metadata": {},
   "outputs": [
    {
     "name": "stdout",
     "output_type": "stream",
     "text": [
      "Addition: [ 7 14 21]\n",
      "Subtraction: [3 6 9]\n",
      "Multiplication: [10 40 90]\n",
      "Division: [2.5 2.5 2.5]\n",
      "x squared: [ 25 100 225]\n",
      "Square root of x: [2.23606798 3.16227766 3.87298335]\n",
      "Exponential of y: [  7.3890561   54.59815003 403.42879349]\n"
     ]
    }
   ],
   "source": [
    "x = np.array([5, 10, 15])\n",
    "y = np.array([2, 4, 6])\n",
    "\n",
    "print(\"Addition:\", x + y)\n",
    "print(\"Subtraction:\", x - y)\n",
    "print(\"Multiplication:\", x * y)\n",
    "print(\"Division:\", x / y)\n",
    "\n",
    "# Scalar operations\n",
    "print(\"x squared:\", x ** 2)\n",
    "\n",
    "# Universal functions\n",
    "print(\"Square root of x:\", np.sqrt(x))\n",
    "print(\"Exponential of y:\", np.exp(y))"
   ]
  },
  {
   "cell_type": "markdown",
   "id": "173d9a26-7ae2-431e-b1b8-05123ad3130d",
   "metadata": {},
   "source": [
    "#Indexing, Slicing, and Reshaping"
   ]
  },
  {
   "cell_type": "code",
   "execution_count": 5,
   "id": "770ba1a4-6248-4832-a5a1-4ceea4f59a21",
   "metadata": {},
   "outputs": [
    {
     "name": "stdout",
     "output_type": "stream",
     "text": [
      "Original Array:\n",
      " [ 1  2  3  4  5  6  7  8  9 10 11 12]\n",
      "\n",
      "Reshaped to 3x4:\n",
      " [[ 1  2  3  4]\n",
      " [ 5  6  7  8]\n",
      " [ 9 10 11 12]]\n",
      "\n",
      "First row: [1 2 3 4]\n",
      "Element at row 2, col 3: 7\n",
      "All rows, 2nd column: [ 2  6 10]\n",
      "\n",
      "Elements greater than 5: [ 6  7  8  9 10 11 12]\n"
     ]
    }
   ],
   "source": [
    "arr = np.arange(1, 13)\n",
    "print(\"Original Array:\\n\", arr)\n",
    "\n",
    "# Reshape\n",
    "arr2 = arr.reshape(3, 4)\n",
    "print(\"\\nReshaped to 3x4:\\n\", arr2)\n",
    "\n",
    "# Slicing\n",
    "print(\"\\nFirst row:\", arr2[0])\n",
    "print(\"Element at row 2, col 3:\", arr2[1, 2])\n",
    "print(\"All rows, 2nd column:\", arr2[:, 1])\n",
    "\n",
    "# Boolean indexing\n",
    "print(\"\\nElements greater than 5:\", arr2[arr2 > 5])"
   ]
  },
  {
   "cell_type": "markdown",
   "id": "33d4eae2-01f5-4896-80ed-769731ff8297",
   "metadata": {},
   "source": [
    "#Statistical and Matrix Operations"
   ]
  },
  {
   "cell_type": "code",
   "execution_count": 6,
   "id": "d849eeb6-04aa-4eb7-8195-e3abd9a969c5",
   "metadata": {},
   "outputs": [
    {
     "name": "stdout",
     "output_type": "stream",
     "text": [
      "Data:\n",
      " [[39 45 48 14]\n",
      " [11  3  7 46]\n",
      " [14 41 28 44]\n",
      " [32 46 23 31]]\n",
      "\n",
      "Mean: 29.5\n",
      "Median: 31.5\n",
      "Standard Deviation: 15.09138827278657\n",
      "Sum of each column: [ 96 135 106 135]\n",
      "\n",
      "Matrix Multiplication:\n",
      " [[19 22]\n",
      " [43 50]]\n",
      "\n",
      "Transpose of mat1:\n",
      " [[1 3]\n",
      " [2 4]]\n",
      "\n",
      "Determinant of mat1: -2.0000000000000004\n"
     ]
    }
   ],
   "source": [
    "data = np.random.randint(1, 50, (4, 4))\n",
    "print(\"Data:\\n\", data)\n",
    "\n",
    "# Basic statistics\n",
    "print(\"\\nMean:\", np.mean(data))\n",
    "print(\"Median:\", np.median(data))\n",
    "print(\"Standard Deviation:\", np.std(data))\n",
    "print(\"Sum of each column:\", np.sum(data, axis=0))\n",
    "\n",
    "# Matrix operations\n",
    "mat1 = np.array([[1, 2], [3, 4]])\n",
    "mat2 = np.array([[5, 6], [7, 8]])\n",
    "\n",
    "print(\"\\nMatrix Multiplication:\\n\", np.dot(mat1, mat2))\n",
    "print(\"\\nTranspose of mat1:\\n\", mat1.T)\n",
    "print(\"\\nDeterminant of mat1:\", np.linalg.det(mat1))"
   ]
  },
  {
   "cell_type": "markdown",
   "id": "6b104073-d63f-4d5a-afcd-25a30245fe61",
   "metadata": {},
   "source": [
    "#Advanced (Broadcasting, Stacking, Random, Linspace)"
   ]
  },
  {
   "cell_type": "code",
   "execution_count": 7,
   "id": "11c1a879-808d-4506-ac9b-9c587382c6d9",
   "metadata": {},
   "outputs": [
    {
     "name": "stdout",
     "output_type": "stream",
     "text": [
      "Before Broadcasting: [0 1 2 3 4]\n",
      "After Broadcasting: [10 11 12 13 14]\n",
      "\n",
      "Horizontal Stack:\n",
      " [[1 2 5 6]\n",
      " [3 4 7 8]]\n",
      "\n",
      "Vertical Stack:\n",
      " [[1 2]\n",
      " [3 4]\n",
      " [5 6]\n",
      " [7 8]]\n",
      "\n",
      "Random Normal Values:\n",
      " [[-0.13381282  1.29900118  0.1606169 ]\n",
      " [ 0.75956695 -0.62038703  0.48870868]\n",
      " [-0.56290837  0.468965    0.60631781]]\n",
      "\n",
      "Linearly spaced numbers: [ 0.   2.5  5.   7.5 10. ]\n"
     ]
    }
   ],
   "source": [
    "# Broadcasting example\n",
    "arr = np.arange(5)\n",
    "print(\"Before Broadcasting:\", arr)\n",
    "arr = arr + 10\n",
    "print(\"After Broadcasting:\", arr)\n",
    "\n",
    "# Horizontal & Vertical Stacking\n",
    "a = np.array([[1, 2], [3, 4]])\n",
    "b = np.array([[5, 6], [7, 8]])\n",
    "print(\"\\nHorizontal Stack:\\n\", np.hstack((a, b)))\n",
    "print(\"\\nVertical Stack:\\n\", np.vstack((a, b)))\n",
    "\n",
    "# Random and linspace\n",
    "rand_nums = np.random.randn(3, 3)\n",
    "lin = np.linspace(0, 10, 5)\n",
    "print(\"\\nRandom Normal Values:\\n\", rand_nums)\n",
    "print(\"\\nLinearly spaced numbers:\", lin)\n"
   ]
  },
  {
   "cell_type": "markdown",
   "id": "1c1f7dff-6974-49ec-9ab3-e4db9f2963bd",
   "metadata": {},
   "source": [
    "#Masking, Sorting, and File Handling"
   ]
  },
  {
   "cell_type": "code",
   "execution_count": 8,
   "id": "0d35f4aa-9241-4093-b4bb-ce5f66be98d9",
   "metadata": {},
   "outputs": [
    {
     "name": "stdout",
     "output_type": "stream",
     "text": [
      "Original Data:\n",
      " [[38 89 94 17 48]\n",
      " [56 11 95 88 33]\n",
      " [23 40 34 69 84]\n",
      " [36 81 12 98 88]\n",
      " [32 87 76 25 97]]\n",
      "\n",
      "Mask (values > 50):\n",
      " [[False  True  True False False]\n",
      " [ True False  True  True False]\n",
      " [False False False  True  True]\n",
      " [False  True False  True  True]\n",
      " [False  True  True False  True]]\n",
      "\n",
      "Filtered values: [89 94 56 95 88 69 84 81 98 88 87 76 97]\n",
      "\n",
      "Sorted row-wise:\n",
      " [[17 38 48 89 94]\n",
      " [11 33 56 88 95]\n",
      " [23 34 40 69 84]\n",
      " [12 36 81 88 98]\n",
      " [25 32 76 87 97]]\n",
      "\n",
      "Sorted column-wise:\n",
      " [[23 11 12 17 33]\n",
      " [32 40 34 25 48]\n",
      " [36 81 76 69 84]\n",
      " [38 87 94 88 88]\n",
      " [56 89 95 98 97]]\n",
      "\n",
      "Loaded from file:\n",
      " [[38 89 94 17 48]\n",
      " [56 11 95 88 33]\n",
      " [23 40 34 69 84]\n",
      " [36 81 12 98 88]\n",
      " [32 87 76 25 97]]\n"
     ]
    }
   ],
   "source": [
    "data = np.random.randint(10, 100, (5, 5))\n",
    "print(\"Original Data:\\n\", data)\n",
    "\n",
    "# Masking\n",
    "mask = data > 50\n",
    "print(\"\\nMask (values > 50):\\n\", mask)\n",
    "print(\"\\nFiltered values:\", data[mask])\n",
    "\n",
    "# Sorting\n",
    "print(\"\\nSorted row-wise:\\n\", np.sort(data, axis=1))\n",
    "print(\"\\nSorted column-wise:\\n\", np.sort(data, axis=0))\n",
    "\n",
    "# File handling (save & load)\n",
    "np.savetxt(\"my_data.csv\", data, delimiter=\",\", fmt=\"%d\")\n",
    "loaded_data = np.loadtxt(\"my_data.csv\", delimiter=\",\", dtype=int)\n",
    "print(\"\\nLoaded from file:\\n\", loaded_data)\n"
   ]
  },
  {
   "cell_type": "markdown",
   "id": "232f7ae6-aa94-41f3-898e-b8f65b5d181e",
   "metadata": {},
   "source": [
    "#World Example (Temperature Conversion & Normalization)"
   ]
  },
  {
   "cell_type": "code",
   "execution_count": 9,
   "id": "0dc8c5f9-de21-4ba5-8637-9214a159b6a9",
   "metadata": {},
   "outputs": [
    {
     "name": "stdout",
     "output_type": "stream",
     "text": [
      "Temperature in Fahrenheit: [ 77.  86.  95. 104. 113.]\n",
      "\n",
      "Original: [ 5 15 25 35 45]\n",
      "Normalized: [0.   0.25 0.5  0.75 1.  ]\n"
     ]
    }
   ],
   "source": [
    "# Temperature data (Celsius)\n",
    "temps_c = np.array([25, 30, 35, 40, 45])\n",
    "\n",
    "# Convert to Fahrenheit\n",
    "temps_f = temps_c * 9/5 + 32\n",
    "print(\"Temperature in Fahrenheit:\", temps_f)\n",
    "\n",
    "# Normalize dataset\n",
    "values = np.array([5, 15, 25, 35, 45])\n",
    "normalized = (values - np.min(values)) / (np.max(values) - np.min(values))\n",
    "print(\"\\nOriginal:\", values)\n",
    "print(\"Normalized:\", normalized)\n"
   ]
  }
 ],
 "metadata": {
  "kernelspec": {
   "display_name": "Python 3 (ipykernel)",
   "language": "python",
   "name": "python3"
  },
  "language_info": {
   "codemirror_mode": {
    "name": "ipython",
    "version": 3
   },
   "file_extension": ".py",
   "mimetype": "text/x-python",
   "name": "python",
   "nbconvert_exporter": "python",
   "pygments_lexer": "ipython3",
   "version": "3.13.7"
  }
 },
 "nbformat": 4,
 "nbformat_minor": 5
}
