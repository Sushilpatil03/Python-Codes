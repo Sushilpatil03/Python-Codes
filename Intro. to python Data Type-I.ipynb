{
 "cells": [
  {
   "cell_type": "code",
   "execution_count": 1,
   "id": "3464db7f-cd61-46d8-9833-bfe81d4d6f1c",
   "metadata": {},
   "outputs": [
    {
     "name": "stdin",
     "output_type": "stream",
     "text": [
      "Enter temperature in Celsius:  20\n"
     ]
    },
    {
     "name": "stdout",
     "output_type": "stream",
     "text": [
      "20.0 Celsius is equal to 68.0 Fahrenheit.\n"
     ]
    }
   ],
   "source": [
    "# Python Program for Temperature Conversion\n",
    "celsius_temperature = float(input(\"Enter temperature in Celsius: \"))\n",
    "fahrenheit_temperature = (celsius_temperature * 9/5) + 32\n",
    "print(f\"{celsius_temperature} Celsius is equal to {fahrenheit_temperature} Fahrenheit.\")\n"
   ]
  },
  {
   "cell_type": "code",
   "execution_count": 2,
   "id": "35c24898-17b7-4111-8fcf-e0bcff408ff1",
   "metadata": {},
   "outputs": [
    {
     "name": "stdin",
     "output_type": "stream",
     "text": [
      "Enter a string:  20\n"
     ]
    },
    {
     "name": "stdout",
     "output_type": "stream",
     "text": [
      "Character Counts:\n",
      "2: 1\n",
      "0: 1\n"
     ]
    }
   ],
   "source": [
    "# Python Program for Character Counter\n",
    "user_string = input(\"Enter a string: \")\n",
    "character_count = {}\n",
    "\n",
    "for char in user_string:\n",
    "    if char in character_count:\n",
    "        character_count[char] += 1\n",
    "    else:\n",
    "        character_count[char] = 1\n",
    "\n",
    "print(\"Character Counts:\")\n",
    "for char, count in character_count.items():\n",
    "    print(f\"{char}: {count}\")"
   ]
  },
  {
   "cell_type": "code",
   "execution_count": 3,
   "id": "c4f389ab-07ef-4209-a4cb-627d7769b66f",
   "metadata": {},
   "outputs": [
    {
     "name": "stdin",
     "output_type": "stream",
     "text": [
      "Enter an integer:  30\n"
     ]
    },
    {
     "name": "stdout",
     "output_type": "stream",
     "text": [
      "30 is an even number.\n"
     ]
    }
   ],
   "source": [
    "# Python Program for Even or Odd Checker\n",
    "user_number = int(input(\"Enter an integer: \"))\n",
    "\n",
    "if user_number % 2 == 0:\n",
    "    print(f\"{user_number} is an even number.\"\n",
    "         )\n",
    "else:\n",
    "    print(f\"{user_number} is an odd number.\")"
   ]
  },
  {
   "cell_type": "code",
   "execution_count": 4,
   "id": "fcc784cb-e64c-48e1-a08e-0fae3b460770",
   "metadata": {},
   "outputs": [
    {
     "name": "stdin",
     "output_type": "stream",
     "text": [
      "Enter coefficient a:  36\n",
      "Enter coefficient b:  54\n",
      "Enter coefficient c:  88\n"
     ]
    },
    {
     "name": "stdout",
     "output_type": "stream",
     "text": [
      "Solutions: (-0.75+1.3718398027628607j) and (-0.75-1.3718398027628607j)\n"
     ]
    }
   ],
   "source": [
    "# Python Program for Quadratic Equation Solver\n",
    "import cmath\n",
    "\n",
    "a = float(input(\"Enter coefficient a: \"))\n",
    "b = float(input(\"Enter coefficient b: \"))\n",
    "c = float(input(\"Enter coefficient c: \"))\n",
    "\n",
    "# Calculate the discriminant\n",
    "discriminant = cmath.sqrt(b**2 - 4*a*c)\n",
    "\n",
    "# Solve the quadratic equation\n",
    "solution1 = (-b + discriminant) / (2*a)\n",
    "solution2 = (-b - discriminant) / (2*a)\n",
    "\n",
    "print(f\"Solutions: {solution1} and {solution2}\")\n"
   ]
  },
  {
   "cell_type": "code",
   "execution_count": 8,
   "id": "38ff5ae2-f15d-4ad0-8dad-15bb7209356f",
   "metadata": {},
   "outputs": [
    {
     "name": "stdin",
     "output_type": "stream",
     "text": [
      "Guess the number (between 1 and 100):  50\n"
     ]
    },
    {
     "name": "stdout",
     "output_type": "stream",
     "text": [
      "Try again. The number is higher.\n"
     ]
    },
    {
     "name": "stdin",
     "output_type": "stream",
     "text": [
      "Guess the number (between 1 and 100):  60\n"
     ]
    },
    {
     "name": "stdout",
     "output_type": "stream",
     "text": [
      "Try again. The number is higher.\n"
     ]
    },
    {
     "name": "stdin",
     "output_type": "stream",
     "text": [
      "Guess the number (between 1 and 100):  80\n"
     ]
    },
    {
     "name": "stdout",
     "output_type": "stream",
     "text": [
      "Try again. The number is lower.\n"
     ]
    },
    {
     "name": "stdin",
     "output_type": "stream",
     "text": [
      "Guess the number (between 1 and 100):  70\n"
     ]
    },
    {
     "name": "stdout",
     "output_type": "stream",
     "text": [
      "Try again. The number is higher.\n"
     ]
    },
    {
     "name": "stdin",
     "output_type": "stream",
     "text": [
      "Guess the number (between 1 and 100):  75\n"
     ]
    },
    {
     "name": "stdout",
     "output_type": "stream",
     "text": [
      "Try again. The number is lower.\n"
     ]
    },
    {
     "name": "stdin",
     "output_type": "stream",
     "text": [
      "Guess the number (between 1 and 100):  73\n"
     ]
    },
    {
     "name": "stdout",
     "output_type": "stream",
     "text": [
      "Try again. The number is higher.\n"
     ]
    },
    {
     "name": "stdin",
     "output_type": "stream",
     "text": [
      "Guess the number (between 1 and 100):  74\n"
     ]
    },
    {
     "name": "stdout",
     "output_type": "stream",
     "text": [
      "Congratulations! You guessed the correct number.\n"
     ]
    }
   ],
   "source": [
    "\n",
    "# Python Program for Guess the Number Game\n",
    "import random\n",
    "\n",
    "target_number = random.randint(1, 100)\n",
    "\n",
    "while True:\n",
    "    user_guess = int(input(\"Guess the number (between 1 and 100): \"))\n",
    "\n",
    "    if user_guess == target_number:\n",
    "        print(\"Congratulations! You guessed the correct number.\")\n",
    "        break\n",
    "    elif user_guess < target_number:\n",
    "        print(\"Try again. The number is higher.\")\n",
    "    else:\n",
    "        print(\"Try again. The number is lower.\")"
   ]
  },
  {
   "cell_type": "code",
   "execution_count": 9,
   "id": "e92e986c-48b6-40e6-bfa4-312bec4ffa44",
   "metadata": {},
   "outputs": [
    {
     "name": "stdin",
     "output_type": "stream",
     "text": [
      "Enter a list of numbers separated by spaces:  20\n"
     ]
    },
    {
     "name": "stdout",
     "output_type": "stream",
     "text": [
      "Sum of the numbers: 20.0\n",
      "Maximum value: 20.0\n",
      "Minimum value: 20.0\n",
      "Sorted list: [20.0]\n"
     ]
    }
   ],
   "source": [
    "# Python Program for List Operations\n",
    "user_numbers = [float(x) for x in input(\"Enter a list of numbers separated by spaces: \").split()]\n",
    "\n",
    "# Calculate sum\n",
    "list_sum = sum(user_numbers)\n",
    "print(f\"Sum of the numbers: {list_sum}\")\n",
    "\n",
    "# Find maximum and minimum values\n",
    "max_value = max(user_numbers)\n",
    "min_value = min(user_numbers)\n",
    "print(f\"Maximum value: {max_value}\")\n",
    "print(f\"Minimum value: {min_value}\")\n",
    "\n",
    "# Sort the list\n",
    "sorted_list = sorted(user_numbers)\n",
    "print(f\"Sorted list: {sorted_list}\")"
   ]
  }
 ],
 "metadata": {
  "kernelspec": {
   "display_name": "Python 3 (ipykernel)",
   "language": "python",
   "name": "python3"
  },
  "language_info": {
   "codemirror_mode": {
    "name": "ipython",
    "version": 3
   },
   "file_extension": ".py",
   "mimetype": "text/x-python",
   "name": "python",
   "nbconvert_exporter": "python",
   "pygments_lexer": "ipython3",
   "version": "3.13.7"
  }
 },
 "nbformat": 4,
 "nbformat_minor": 5
}
