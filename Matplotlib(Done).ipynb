{
 "cells": [
  {
   "cell_type": "code",
   "execution_count": null,
   "id": "a5726df8-0b05-4f12-b8c2-64b050762b86",
   "metadata": {},
   "outputs": [],
   "source": [
    "!pip install matplotlib"
   ]
  },
  {
   "cell_type": "code",
   "execution_count": null,
   "id": "9911e963-939d-4dba-978a-9847cfcdfc9f",
   "metadata": {},
   "outputs": [],
   "source": [
    "import matplotlib.pyplot as plt"
   ]
  },
  {
   "cell_type": "code",
   "execution_count": null,
   "id": "208259b1-9334-4684-b55d-3aa453318d06",
   "metadata": {},
   "outputs": [],
   "source": [
    "import numpy as np\n",
    "import pandas as pd"
   ]
  },
  {
   "cell_type": "code",
   "execution_count": null,
   "id": "945a1638-41c1-439c-9719-991d44ae5f56",
   "metadata": {},
   "outputs": [],
   "source": [
    "%matplotlib inline"
   ]
  },
  {
   "cell_type": "code",
   "execution_count": null,
   "id": "26677b9b-9712-4e25-bb7e-fe42d30edc47",
   "metadata": {
    "scrolled": true
   },
   "outputs": [],
   "source": [
    "path_file='D:\\ST-425\\MCP\\mtcars.xlsx'\n",
    "data=pd.read_excel(path_file)\n",
    "data"
   ]
  },
  {
   "cell_type": "code",
   "execution_count": null,
   "id": "03092736-0f85-4717-833a-ae54323366e0",
   "metadata": {},
   "outputs": [],
   "source": [
    "plt.scatter(data['cyl'],data['disp'])\n",
    "plt.legend('Xlegend')\n",
    "plt.title(\"Scatterplot of disp vs cyl\")\n",
    "plt.xlabel(\"Displacement\")\n",
    "plt.ylabel(\"Cylinders\")\n",
    "plt.savefig('Scatterplot.png')\n",
    "plt.show()"
   ]
  },
  {
   "cell_type": "code",
   "execution_count": null,
   "id": "35eb2c3b-1764-443c-b93a-accfecf5a16e",
   "metadata": {},
   "outputs": [],
   "source": [
    "plt.plot(data['cyl'])\n",
    "plt.plot(data['disp'])\n",
    "plt.legend(labels=['cyl','disp'],loc='lower right')\n",
    "plt.show()"
   ]
  },
  {
   "cell_type": "code",
   "execution_count": null,
   "id": "9f1e6297-7755-4386-b900-e3f28cc89811",
   "metadata": {},
   "outputs": [],
   "source": [
    "import numpy as np"
   ]
  },
  {
   "cell_type": "code",
   "execution_count": null,
   "id": "0b77f994-1283-41df-9556-f03d299dec65",
   "metadata": {},
   "outputs": [],
   "source": [
    "x=np.random.normal(1,2,250)\n",
    "plt.hist(x,bins=20,color='red',edgecolor='white')\n",
    "plt.show()"
   ]
  },
  {
   "cell_type": "code",
   "execution_count": null,
   "id": "d2583b7d-96cb-496a-ac42-a40f27b7277f",
   "metadata": {},
   "outputs": [],
   "source": [
    "plt.boxplot(x)\n",
    "plt.show()"
   ]
  },
  {
   "cell_type": "code",
   "execution_count": null,
   "id": "76985b29-d769-4aef-85f9-502413f82def",
   "metadata": {},
   "outputs": [],
   "source": []
  },
  {
   "cell_type": "code",
   "execution_count": null,
   "id": "d7336ad8-c1e4-4caf-a079-bff6c17313aa",
   "metadata": {},
   "outputs": [],
   "source": [
    "plt.bar(data['gear'],data['disp'],color='orange')\n",
    "plt.xlabel('gear')\n",
    "plt.ylabel('disp')\n",
    "plt.show()"
   ]
  },
  {
   "cell_type": "code",
   "execution_count": null,
   "id": "f0b39c01-0641-439d-a303-a248a0b15c0d",
   "metadata": {},
   "outputs": [],
   "source": [
    "fig , ax=plt.subplots(nrows=2,ncols=2,figsize=(6,6))\n",
    "ax[0,0].scatter(data['mpg'],data['qsec'])\n",
    "ax[0,1].boxplot(data['disp'])\n",
    "ax[1,0].hist(data['mpg'],bins=20,color='red',edgecolor='white')\n",
    "ax[1,1].pie(data['cyl'].value_counts(),autopct=\"%1.1f\")\n",
    "plt.show()"
   ]
  },
  {
   "cell_type": "code",
   "execution_count": null,
   "id": "a2c87f76-acbd-4880-b029-0cf31802239e",
   "metadata": {},
   "outputs": [],
   "source": [
    "plt.pie(data['am'].value_counts(),autopct=\"%1.1f\")\n",
    "#plt.legend(labels=['automatic','manual'],loc='upper ')\n",
    "plt.show()"
   ]
  },
  {
   "cell_type": "code",
   "execution_count": null,
   "id": "71b14ed2-0e58-4aee-b522-595b37bd3a72",
   "metadata": {},
   "outputs": [],
   "source": []
  }
 ],
 "metadata": {
  "kernelspec": {
   "display_name": "Python 3 (ipykernel)",
   "language": "python",
   "name": "python3"
  },
  "language_info": {
   "codemirror_mode": {
    "name": "ipython",
    "version": 3
   },
   "file_extension": ".py",
   "mimetype": "text/x-python",
   "name": "python",
   "nbconvert_exporter": "python",
   "pygments_lexer": "ipython3",
   "version": "3.13.7"
  }
 },
 "nbformat": 4,
 "nbformat_minor": 5
}
